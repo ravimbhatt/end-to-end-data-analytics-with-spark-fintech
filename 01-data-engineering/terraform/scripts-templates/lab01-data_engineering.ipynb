{
 "cells": [
  {
   "cell_type": "markdown",
   "metadata": {
    "application/vnd.databricks.v1+cell": {
     "inputWidgets": {},
     "nuid": "8023dc7c-ec1c-41a7-a049-c8e2a44a5beb",
     "showTitle": false,
     "title": ""
    }
   },
   "source": [
    "# SPARK hackfest-in-a-box for FinTech - LAB 1"
   ]
  },
  {
   "cell_type": "markdown",
   "metadata": {},
   "source": [
    "The objetive is this lab is to perform exploratory data analysis and data preparation on a fintech dataset (blockchain) for detecting if a transactions are coming from a mining pool.\n",
    "\n",
    "Bitcoin mining pools are networks of distributed Bitcoin miners who cooperate to mine blocks together and distribute the payments based on each entity's contribution to the pool. This allows miners to smooth out their revenue at a slight discount in the form of fees paid to the pool coordinator."
   ]
  },
  {
   "cell_type": "markdown",
   "metadata": {},
   "source": [
    " - This notebook Based on the Kaggle kernels [Bitcoin insights](https://www.kaggle.com/code/rakibfiha/bitcoin-insights) and [Mining Pool Classifier](https://www.kaggle.com/code/wprice/bitcoin-mining-pool-classifier).\n",
    " - Main Changes:\n",
    "     - Refactor due to update old Public Dataset (`bigquery-public-data.bitcoin_blockchain` to `bigquery-public-data.crypto_bitcoin`)\n",
    "     - Refactor from BigQuery to pySPARK\n",
    "     - Refactor the ML part from `sci-kit-learn` to `SPARK mllib`"
   ]
  },
  {
   "cell_type": "markdown",
   "metadata": {},
   "source": [
    "## 1 Exploratory data analysis"
   ]
  },
  {
   "cell_type": "markdown",
   "metadata": {},
   "source": [
    "In statistics, exploratory data analysis (EDA) is an approach of analyzing data sets to summarize their main characteristics, often using statistical graphics and other data visualization methods"
   ]
  },
  {
   "cell_type": "code",
   "execution_count": null,
   "metadata": {},
   "outputs": [],
   "source": [
    "project_id = \"YOUR_PROJECT_ID\""
   ]
  },
  {
   "cell_type": "code",
   "execution_count": null,
   "metadata": {},
   "outputs": [],
   "source": [
    "#%%bigquery\n",
    "#CREATE  SCHEMA crypto_bitcoin;\n",
    "#CREATE OR REPLACE TABLE crypto_bitcoin.transactions AS (SELECT * FROM bigquery-public-data.crypto_bitcoin.transactions TABLESAMPLE SYSTEM (0.0001 PERCENT));\n",
    "#CREATE OR REPLACE TABLE crypto_bitcoin.blocks AS ( SELECT * FROM bigquery-public-data.crypto_bitcoin.transactions TABLESAMPLE SYSTEM (0.0001 PERCENT));"
   ]
  },
  {
   "cell_type": "code",
   "execution_count": 114,
   "metadata": {},
   "outputs": [],
   "source": [
    "import sys\n",
    "import pyspark\n",
    "from pyspark.sql import SparkSession\n",
    "from pyspark.sql.functions import *\n",
    "from pyspark.sql.window import Window\n",
    "from pyspark.sql import functions as F\n",
    "import pandas as pd\n",
    "import matplotlib.pyplot as plt\n",
    "import numpy as np"
   ]
  },
  {
   "cell_type": "code",
   "execution_count": 115,
   "metadata": {},
   "outputs": [],
   "source": [
    "spark = SparkSession.builder.getOrCreate()"
   ]
  },
  {
   "cell_type": "markdown",
   "metadata": {},
   "source": [
    "#### Question 1: Find Bitcoins public addresses (wallets) who has received most number of bitcoins"
   ]
  },
  {
   "cell_type": "code",
   "execution_count": 116,
   "metadata": {},
   "outputs": [],
   "source": [
    "#The BigQuery Storage API supports predicate push-down of filters which means that if you set a filter in the where statement \n",
    "#later on in your Apache Spark job it will attempt to push the filter to BigQuery.\n",
    "#For most use cases the default setting of attempting to read one partition per 400MB should be adequate.\n",
    "#Currently the maximum parallelism allowed by the BigQuery storage API is 1000\n",
    "max_bc_df = spark.read.format('bigquery') \\\n",
    "  .option('table', '{}.crypto_bitcoin.transactions'.format(project_id))  \\\n",
    "  .load()"
   ]
  },
  {
   "cell_type": "code",
   "execution_count": 117,
   "metadata": {},
   "outputs": [
    {
     "name": "stdout",
     "output_type": "stream",
     "text": [
      "root\n",
      " |-- hash: string (nullable = true)\n",
      " |-- size: long (nullable = true)\n",
      " |-- virtual_size: long (nullable = true)\n",
      " |-- version: long (nullable = true)\n",
      " |-- lock_time: long (nullable = true)\n",
      " |-- block_hash: string (nullable = true)\n",
      " |-- block_number: long (nullable = true)\n",
      " |-- block_timestamp: timestamp (nullable = true)\n",
      " |-- block_timestamp_month: date (nullable = true)\n",
      " |-- input_count: long (nullable = true)\n",
      " |-- output_count: long (nullable = true)\n",
      " |-- input_value: decimal(38,9) (nullable = true)\n",
      " |-- output_value: decimal(38,9) (nullable = true)\n",
      " |-- is_coinbase: boolean (nullable = true)\n",
      " |-- fee: decimal(38,9) (nullable = true)\n",
      " |-- inputs: array (nullable = true)\n",
      " |    |-- element: struct (containsNull = true)\n",
      " |    |    |-- index: long (nullable = true)\n",
      " |    |    |-- spent_transaction_hash: string (nullable = true)\n",
      " |    |    |-- spent_output_index: long (nullable = true)\n",
      " |    |    |-- script_asm: string (nullable = true)\n",
      " |    |    |-- script_hex: string (nullable = true)\n",
      " |    |    |-- sequence: long (nullable = true)\n",
      " |    |    |-- required_signatures: long (nullable = true)\n",
      " |    |    |-- type: string (nullable = true)\n",
      " |    |    |-- addresses: array (nullable = true)\n",
      " |    |    |    |-- element: string (containsNull = true)\n",
      " |    |    |-- value: decimal(38,9) (nullable = true)\n",
      " |-- outputs: array (nullable = true)\n",
      " |    |-- element: struct (containsNull = true)\n",
      " |    |    |-- index: long (nullable = true)\n",
      " |    |    |-- script_asm: string (nullable = true)\n",
      " |    |    |-- script_hex: string (nullable = true)\n",
      " |    |    |-- required_signatures: long (nullable = true)\n",
      " |    |    |-- type: string (nullable = true)\n",
      " |    |    |-- addresses: array (nullable = true)\n",
      " |    |    |    |-- element: string (containsNull = true)\n",
      " |    |    |-- value: decimal(38,9) (nullable = true)\n",
      "\n"
     ]
    }
   ],
   "source": [
    "# Show table schema\n",
    "max_bc_df.printSchema()"
   ]
  },
  {
   "cell_type": "code",
   "execution_count": 118,
   "metadata": {},
   "outputs": [],
   "source": [
    "#Unnest inputs and outputs arrays - It is important to look at the BigQuery table structure (NESTED ARRAYS)\n",
    "max_bc_df = max_bc_df.withColumn(\"o\", F.explode(\"outputs\")).withColumn(\"i\", F.explode(\"inputs\"))\n",
    "max_bc_df = max_bc_df.withColumn(\"o_address\", F.explode(\"o.addresses\")).withColumn(\"i_address\", F.explode(\"i.addresses\"))"
   ]
  },
  {
   "cell_type": "code",
   "execution_count": 119,
   "metadata": {},
   "outputs": [],
   "source": [
    "#~ is the not is in operator, different outputs and inputs\n",
    "max_bc_df = max_bc_df.where( ~ max_bc_df.o_address.isin(max_bc_df.i_address))"
   ]
  },
  {
   "cell_type": "code",
   "execution_count": 120,
   "metadata": {},
   "outputs": [],
   "source": [
    "#Remember that 1 bc = 100000000 satoshis\n",
    "max_bc_df = max_bc_df.groupBy(\"o_address\") \\\n",
    "    .agg((F.sum(\"o.value\")/100000000) \\\n",
    "    .alias(\"output_sum\"))"
   ]
  },
  {
   "cell_type": "code",
   "execution_count": 121,
   "metadata": {},
   "outputs": [],
   "source": [
    "max_bc_df = max_bc_df.orderBy(max_bc_df.output_sum.desc()).limit(1000) \\\n",
    "    .select(\"o_address\", \"output_sum\")"
   ]
  },
  {
   "cell_type": "code",
   "execution_count": 122,
   "metadata": {},
   "outputs": [
    {
     "name": "stderr",
     "output_type": "stream",
     "text": [
      "[Stage 247:==============================================>      (176 + 4) / 200]"
     ]
    },
    {
     "name": "stdout",
     "output_type": "stream",
     "text": [
      "CPU times: user 27.1 ms, sys: 8 ms, total: 35.1 ms\n",
      "Wall time: 5.42 s\n"
     ]
    },
    {
     "name": "stderr",
     "output_type": "stream",
     "text": [
      "                                                                                \r"
     ]
    }
   ],
   "source": [
    "%%time\n",
    "#Triggers the DAG exec.\n",
    "max_bc_df_pd = max_bc_df.toPandas()"
   ]
  },
  {
   "cell_type": "code",
   "execution_count": 123,
   "metadata": {},
   "outputs": [
    {
     "data": {
      "image/png": "[encoded data removed]",
      "text/plain": [
       "<Figure size 640x480 with 1 Axes>"
      ]
     },
     "metadata": {},
     "output_type": "display_data"
    }
   ],
   "source": [
    "objects = max_bc_df_pd[\"o_address\"][:10]\n",
    "y_pos = np.arange(len(objects))\n",
    "performance = max_bc_df_pd[\"output_sum\"][:10]\n",
    "plt.bar(y_pos, performance, align='center', alpha=0.5)\n",
    "plt.xticks(y_pos, objects, rotation=90)\n",
    "plt.ylabel('Bitcoins')\n",
    "plt.title('Bitcoins public addresses who has received most number of bitcoins')\n",
    "plt.show()"
   ]
  },
  {
   "cell_type": "markdown",
   "metadata": {},
   "source": [
    "#### Question 2: Find the largest transactions to date"
   ]
  },
  {
   "cell_type": "code",
   "execution_count": 124,
   "metadata": {},
   "outputs": [],
   "source": [
    "largest_bc_tx_df = spark.read.format('bigquery') \\\n",
    "  .option('table', '{}.crypto_bitcoin.transactions'.format(project_id))  \\\n",
    "  .load()"
   ]
  },
  {
   "cell_type": "code",
   "execution_count": 125,
   "metadata": {},
   "outputs": [],
   "source": [
    "#Unnest inputs and outputs arrays\n",
    "largest_bc_tx_df = largest_bc_tx_df.withColumn(\"o\", F.explode(\"outputs\")).withColumn(\"i\", F.explode(\"inputs\"))\n",
    "largest_bc_tx_df = largest_bc_tx_df.withColumn(\"o_address\", F.explode(\"o.addresses\")).withColumn(\"i_address\", F.explode(\"i.addresses\"))\n",
    "largest_bc_tx_df = largest_bc_tx_df.orderBy(largest_bc_tx_df.o.value.desc()).limit(100)\n",
    "largest_bc_tx_df = largest_bc_tx_df.select(\"o_address\", \"o.value\", \"block_timestamp\")"
   ]
  },
  {
   "cell_type": "code",
   "execution_count": 126,
   "metadata": {},
   "outputs": [
    {
     "name": "stderr",
     "output_type": "stream",
     "text": [
      "[Stage 248:======================================>                  (2 + 1) / 3]"
     ]
    },
    {
     "name": "stdout",
     "output_type": "stream",
     "text": [
      "CPU times: user 17.2 ms, sys: 7.82 ms, total: 25 ms\n",
      "Wall time: 3.48 s\n"
     ]
    },
    {
     "name": "stderr",
     "output_type": "stream",
     "text": [
      "                                                                                \r"
     ]
    }
   ],
   "source": [
    "%%time\n",
    "largest_bc_tx_df_pd = largest_bc_tx_df.toPandas()"
   ]
  },
  {
   "cell_type": "code",
   "execution_count": 127,
   "metadata": {},
   "outputs": [],
   "source": [
    "largest_bc_tx_df_pd=largest_bc_tx_df_pd.drop_duplicates().sort_values(by=\"block_timestamp\").astype({\"value\": float})\n",
    "largest_bc_tx_df_pd['value'] = largest_bc_tx_df_pd['value'].div(100000000).round(2)\n",
    "largest_bc_tx_df_pd['block_timestamp'] = pd.to_datetime(largest_bc_tx_df_pd['block_timestamp'],infer_datetime_format=True)"
   ]
  },
  {
   "cell_type": "code",
   "execution_count": 128,
   "metadata": {},
   "outputs": [
    {
     "data": {
      "image/png": "[encoded data removed]",
      "text/plain": [
       "<Figure size 800x800 with 1 Axes>"
      ]
     },
     "metadata": {},
     "output_type": "display_data"
    }
   ],
   "source": [
    "fig, ax = plt.subplots(figsize=(8, 8))\n",
    "ax.scatter(largest_bc_tx_df_pd['block_timestamp'],largest_bc_tx_df_pd['value'],color='red')\n",
    "ax.set(xlabel=\"Date\",ylabel=\"Tx bitcoins\",title=\"Evolution of max TX bitcoins\")\n",
    "plt.show()"
   ]
  },
  {
   "cell_type": "markdown",
   "metadata": {},
   "source": [
    "#### Question 3: Top 100 users paying more in self transactions fees"
   ]
  },
  {
   "cell_type": "code",
   "execution_count": 129,
   "metadata": {},
   "outputs": [],
   "source": [
    "top_self_tx_fees_df = spark.read.format('bigquery') \\\n",
    "  .option('table', '{}.crypto_bitcoin.transactions'.format(project_id))  \\\n",
    "  .load()"
   ]
  },
  {
   "cell_type": "code",
   "execution_count": 130,
   "metadata": {},
   "outputs": [
    {
     "name": "stdout",
     "output_type": "stream",
     "text": [
      "+--------------------+--------------------+-------+\n",
      "|            col_name|           data_type|comment|\n",
      "+--------------------+--------------------+-------+\n",
      "|                hash|              string|   null|\n",
      "|                size|              bigint|   null|\n",
      "|        virtual_size|              bigint|   null|\n",
      "|             version|              bigint|   null|\n",
      "|           lock_time|              bigint|   null|\n",
      "|          block_hash|              string|   null|\n",
      "|        block_number|              bigint|   null|\n",
      "|     block_timestamp|           timestamp|   null|\n",
      "|block_timestamp_m...|                date|   null|\n",
      "|         input_count|              bigint|   null|\n",
      "|        output_count|              bigint|   null|\n",
      "|         input_value|       decimal(38,9)|   null|\n",
      "|        output_value|       decimal(38,9)|   null|\n",
      "|         is_coinbase|             boolean|   null|\n",
      "|                 fee|       decimal(38,9)|   null|\n",
      "|              inputs|array<struct<inde...|   null|\n",
      "|             outputs|array<struct<inde...|   null|\n",
      "+--------------------+--------------------+-------+\n",
      "\n"
     ]
    }
   ],
   "source": [
    "top_self_tx_fees_df.createOrReplaceTempView(\"transactions\")\n",
    "spark.sql(\"DESCRIBE transactions\").show()"
   ]
  },
  {
   "cell_type": "code",
   "execution_count": 131,
   "metadata": {},
   "outputs": [
    {
     "name": "stderr",
     "output_type": "stream",
     "text": [
      "                                                                                \r"
     ]
    },
    {
     "name": "stdout",
     "output_type": "stream",
     "text": [
      "CPU times: user 29.7 ms, sys: 923 µs, total: 30.7 ms\n",
      "Wall time: 4.31 s\n"
     ]
    }
   ],
   "source": [
    "%%time\n",
    "top_self_tx_fees_df = spark.sql(\"\"\"\n",
    "    SELECT SUM(fee/100000000) as output_sum_fees, o_address\n",
    "    FROM transactions\n",
    "    LATERAL VIEW EXPLODE(outputs) exploded_outputs as o \n",
    "    LATERAL VIEW EXPLODE(o.addresses) exploded_address_o as o_address\n",
    "WHERE o_address IN (\n",
    "  SELECT i_address\n",
    "  FROM transactions\n",
    "  LATERAL VIEW EXPLODE(inputs) exploded_inputs as i \n",
    "  LATERAL VIEW EXPLODE(i.addresses) exploded_address_i as i_address\n",
    "  )\n",
    "AND size(o.addresses) = 1\n",
    "GROUP BY o_address\n",
    "ORDER BY output_sum_fees DESC\n",
    "LIMIT 1000\"\"\").toPandas()\n",
    "#JOIN UNNEST = LATERAL VIEW EXPLODE, similar in HIVE"
   ]
  },
  {
   "cell_type": "code",
   "execution_count": 132,
   "metadata": {},
   "outputs": [
    {
     "data": {
      "text/html": [
       "<div>\n",
       "<style scoped>\n",
       "    .dataframe tbody tr th:only-of-type {\n",
       "        vertical-align: middle;\n",
       "    }\n",
       "\n",
       "    .dataframe tbody tr th {\n",
       "        vertical-align: top;\n",
       "    }\n",
       "\n",
       "    .dataframe thead th {\n",
       "        text-align: right;\n",
       "    }\n",
       "</style>\n",
       "<table border=\"1\" class=\"dataframe\">\n",
       "  <thead>\n",
       "    <tr style=\"text-align: right;\">\n",
       "      <th></th>\n",
       "      <th>output_sum_fees</th>\n",
       "      <th>o_address</th>\n",
       "    </tr>\n",
       "  </thead>\n",
       "  <tbody>\n",
       "    <tr>\n",
       "      <th>0</th>\n",
       "      <td>1.215967900</td>\n",
       "      <td>1N52wHoVR79PMDishab2XmRHsbekCdGquK</td>\n",
       "    </tr>\n",
       "    <tr>\n",
       "      <th>1</th>\n",
       "      <td>0.540000300</td>\n",
       "      <td>19xEKe1fkryQJTefL7oe4xybgfGxMrbLjF</td>\n",
       "    </tr>\n",
       "    <tr>\n",
       "      <th>2</th>\n",
       "      <td>0.474377870</td>\n",
       "      <td>12cgpFdJViXbwHbhrA3TuW1EGnL25Zqc3P</td>\n",
       "    </tr>\n",
       "    <tr>\n",
       "      <th>3</th>\n",
       "      <td>0.303589520</td>\n",
       "      <td>35iMHbUZeTssxBodiHwEEkb32jpBfVueEL</td>\n",
       "    </tr>\n",
       "    <tr>\n",
       "      <th>4</th>\n",
       "      <td>0.270000150</td>\n",
       "      <td>37zUXXygUCpDgkopsTSKyPZwFZHnBwB6MY</td>\n",
       "    </tr>\n",
       "    <tr>\n",
       "      <th>5</th>\n",
       "      <td>0.213306000</td>\n",
       "      <td>11UVRj5fa2w7HVgQ6XWjBYeJcTEXhZ9jN</td>\n",
       "    </tr>\n",
       "    <tr>\n",
       "      <th>6</th>\n",
       "      <td>0.212859120</td>\n",
       "      <td>1J37CY8hcdUXQ1KfBhMCsUVafa8XjDsdCn</td>\n",
       "    </tr>\n",
       "    <tr>\n",
       "      <th>7</th>\n",
       "      <td>0.180000100</td>\n",
       "      <td>35MnvAKDRaHjmH8AZsGnVScXVwQQpu9c34</td>\n",
       "    </tr>\n",
       "    <tr>\n",
       "      <th>8</th>\n",
       "      <td>0.180000100</td>\n",
       "      <td>3L9Wgxg3n5jWVuJbyGASWGPxFXRJXmutdh</td>\n",
       "    </tr>\n",
       "    <tr>\n",
       "      <th>9</th>\n",
       "      <td>0.180000100</td>\n",
       "      <td>1KsKCHonsSLjFeGCPaqb2tPh62eLJAPJQE</td>\n",
       "    </tr>\n",
       "  </tbody>\n",
       "</table>\n",
       "</div>"
      ],
      "text/plain": [
       "  output_sum_fees                           o_address\n",
       "0     1.215967900  1N52wHoVR79PMDishab2XmRHsbekCdGquK\n",
       "1     0.540000300  19xEKe1fkryQJTefL7oe4xybgfGxMrbLjF\n",
       "2     0.474377870  12cgpFdJViXbwHbhrA3TuW1EGnL25Zqc3P\n",
       "3     0.303589520  35iMHbUZeTssxBodiHwEEkb32jpBfVueEL\n",
       "4     0.270000150  37zUXXygUCpDgkopsTSKyPZwFZHnBwB6MY\n",
       "5     0.213306000   11UVRj5fa2w7HVgQ6XWjBYeJcTEXhZ9jN\n",
       "6     0.212859120  1J37CY8hcdUXQ1KfBhMCsUVafa8XjDsdCn\n",
       "7     0.180000100  35MnvAKDRaHjmH8AZsGnVScXVwQQpu9c34\n",
       "8     0.180000100  3L9Wgxg3n5jWVuJbyGASWGPxFXRJXmutdh\n",
       "9     0.180000100  1KsKCHonsSLjFeGCPaqb2tPh62eLJAPJQE"
      ]
     },
     "execution_count": 132,
     "metadata": {},
     "output_type": "execute_result"
    }
   ],
   "source": [
    "top_self_tx_fees_df.head(10)"
   ]
  },
  {
   "cell_type": "markdown",
   "metadata": {},
   "source": [
    "####  Question 4: Compute the average number of bitcoins transacted per day"
   ]
  },
  {
   "cell_type": "code",
   "execution_count": 133,
   "metadata": {},
   "outputs": [],
   "source": [
    "avg_bc_txs_df = spark.read.format('bigquery') \\\n",
    "  .option('table', '{}.crypto_bitcoin.transactions'.format(project_id))  \\\n",
    "  .load()"
   ]
  },
  {
   "cell_type": "code",
   "execution_count": 134,
   "metadata": {},
   "outputs": [],
   "source": [
    "avg_bc_txs_df = avg_bc_txs_df.withColumn(\"o\", F.explode(\"outputs\")).withColumn(\"o_address\", F.explode(\"o.addresses\"))\n",
    "avg_bc_txs_df = avg_bc_txs_df.groupBy(F.to_date(\"block_timestamp\").alias(\"date\")) \\\n",
    "    .agg((F.avg(\"o.value\")/100000000) \\\n",
    "    .alias(\"output_avg\"))\n",
    "avg_bc_txs_df = avg_bc_txs_df.orderBy(avg_bc_txs_df.output_avg.desc()).limit(5000) \\\n",
    "    .select(\"date\", \"output_avg\")"
   ]
  },
  {
   "cell_type": "code",
   "execution_count": 135,
   "metadata": {},
   "outputs": [
    {
     "name": "stderr",
     "output_type": "stream",
     "text": [
      "[Stage 253:>                                                        (0 + 1) / 1]"
     ]
    },
    {
     "name": "stdout",
     "output_type": "stream",
     "text": [
      "CPU times: user 11.4 ms, sys: 3.19 ms, total: 14.6 ms\n",
      "Wall time: 2.06 s\n"
     ]
    },
    {
     "name": "stderr",
     "output_type": "stream",
     "text": [
      "                                                                                \r"
     ]
    }
   ],
   "source": [
    "%%time\n",
    "avg_bc_txs_df_pd = avg_bc_txs_df.toPandas()"
   ]
  },
  {
   "cell_type": "code",
   "execution_count": 136,
   "metadata": {},
   "outputs": [
    {
     "data": {
      "image/png": "[encoded data removed]",
      "text/plain": [
       "<Figure size 800x800 with 1 Axes>"
      ]
     },
     "metadata": {},
     "output_type": "display_data"
    }
   ],
   "source": [
    "avg_bc_txs_df_pd=avg_bc_txs_df_pd.sort_values(by=\"date\").astype({\"output_avg\": float})\n",
    "avg_bc_txs_df_pd['date'] = pd.to_datetime(avg_bc_txs_df_pd['date'],infer_datetime_format=True)\n",
    "fig, ax = plt.subplots(figsize=(8, 8))\n",
    "#ax.plot(avg_bc_txs_df_pd['to_date(block_timestamp)'],avg_bc_txs_df_pd['output_avg'],color='green')\n",
    "ax.plot(avg_bc_txs_df_pd['date'],avg_bc_txs_df_pd['output_avg'],color='green')\n",
    "ax.set(xlabel=\"Date\",ylabel=\"Tx bitcoins\",title=\"Evolution of avg TX bitcoins\")\n",
    "plt.show()"
   ]
  },
  {
   "cell_type": "markdown",
   "metadata": {},
   "source": [
    "####  Question 5: Lost wallets with more than 50 BTCs value"
   ]
  },
  {
   "cell_type": "code",
   "execution_count": 137,
   "metadata": {},
   "outputs": [],
   "source": [
    "lost_wallets_df = spark.read.format('bigquery') \\\n",
    "  .option('table', '{}.crypto_bitcoin.transactions'.format(project_id))  \\\n",
    "  .load()"
   ]
  },
  {
   "cell_type": "code",
   "execution_count": 138,
   "metadata": {},
   "outputs": [],
   "source": [
    "lost_wallets_df_inner = lost_wallets_df.withColumn(\"i\", F.explode(\"inputs\")).withColumn(\"i_address\", F.explode(\"i.addresses\"))\n",
    "lost_wallets_df_inner = lost_wallets_df_inner.where(lost_wallets_df_inner.i_address.isNotNull()).select(\"i_address\")"
   ]
  },
  {
   "cell_type": "code",
   "execution_count": 139,
   "metadata": {},
   "outputs": [],
   "source": [
    "lost_wallets_df = lost_wallets_df.withColumn(\"o\", F.explode(\"outputs\")).withColumn(\"i\", F.explode(\"inputs\"))\n",
    "lost_wallets_df = lost_wallets_df.withColumn(\"o_address\", F.explode(\"o.addresses\")).withColumn(\"i_address\", F.explode(\"i.addresses\"))\n",
    "lost_wallets_df = lost_wallets_df.join(lost_wallets_df_inner,lost_wallets_df.o_address == lost_wallets_df_inner.i_address, \"left_anti\")"
   ]
  },
  {
   "cell_type": "code",
   "execution_count": 140,
   "metadata": {},
   "outputs": [],
   "source": [
    "lost_wallets_df = lost_wallets_df.groupBy(\"o_address\") \\\n",
    "    .agg((F.sum(\"o.value\")/100000000).alias(\"sum_value\"))\n",
    "lost_wallets_df = lost_wallets_df.where(lost_wallets_df.sum_value > 50).orderBy(lost_wallets_df.sum_value.desc()).limit(1000)"
   ]
  },
  {
   "cell_type": "code",
   "execution_count": 141,
   "metadata": {},
   "outputs": [
    {
     "name": "stderr",
     "output_type": "stream",
     "text": [
      "[Stage 257:================================================>    (183 + 4) / 200]"
     ]
    },
    {
     "name": "stdout",
     "output_type": "stream",
     "text": [
      "CPU times: user 26.4 ms, sys: 12 ms, total: 38.3 ms\n",
      "Wall time: 5.91 s\n"
     ]
    },
    {
     "name": "stderr",
     "output_type": "stream",
     "text": [
      "                                                                                \r"
     ]
    }
   ],
   "source": [
    "%%time\n",
    "lost_wallets_df_pd = lost_wallets_df.toPandas()"
   ]
  },
  {
   "cell_type": "code",
   "execution_count": 142,
   "metadata": {},
   "outputs": [
    {
     "data": {
      "text/html": [
       "<div>\n",
       "<style scoped>\n",
       "    .dataframe tbody tr th:only-of-type {\n",
       "        vertical-align: middle;\n",
       "    }\n",
       "\n",
       "    .dataframe tbody tr th {\n",
       "        vertical-align: top;\n",
       "    }\n",
       "\n",
       "    .dataframe thead th {\n",
       "        text-align: right;\n",
       "    }\n",
       "</style>\n",
       "<table border=\"1\" class=\"dataframe\">\n",
       "  <thead>\n",
       "    <tr style=\"text-align: right;\">\n",
       "      <th></th>\n",
       "      <th>o_address</th>\n",
       "      <th>sum_value</th>\n",
       "    </tr>\n",
       "  </thead>\n",
       "  <tbody>\n",
       "    <tr>\n",
       "      <th>0</th>\n",
       "      <td>1EEqRvnS7XqMoXDcaGL7bLS3hzZi1qUZm1</td>\n",
       "      <td>28358.519341320</td>\n",
       "    </tr>\n",
       "    <tr>\n",
       "      <th>1</th>\n",
       "      <td>148ZZoU5DK5Ba4V9zMYTH46JvNjCcX2vSt</td>\n",
       "      <td>24198.934581600</td>\n",
       "    </tr>\n",
       "    <tr>\n",
       "      <th>2</th>\n",
       "      <td>14eHvec9DxCkiEBNs4cbjbHQXswHV1aEK9</td>\n",
       "      <td>15383.135456550</td>\n",
       "    </tr>\n",
       "    <tr>\n",
       "      <th>3</th>\n",
       "      <td>bc1qrkd2akxs0jlrydm02jdrlhnhk79jrt8v5cpejkpqec...</td>\n",
       "      <td>14065.886528750</td>\n",
       "    </tr>\n",
       "    <tr>\n",
       "      <th>4</th>\n",
       "      <td>bc1qreutkjau7mllp463sp60h6tl5zuvnkyk8vq9yvsfpc...</td>\n",
       "      <td>10337.092897910</td>\n",
       "    </tr>\n",
       "    <tr>\n",
       "      <th>5</th>\n",
       "      <td>18NBmPg56gty4NLe3hXYucboEvMDhBjBWL</td>\n",
       "      <td>10284.023695200</td>\n",
       "    </tr>\n",
       "    <tr>\n",
       "      <th>6</th>\n",
       "      <td>3ED9Mep2YwcQX173qfXA7uEPwaUV2yb6wu</td>\n",
       "      <td>10261.637823750</td>\n",
       "    </tr>\n",
       "    <tr>\n",
       "      <th>7</th>\n",
       "      <td>1HTzd3sKVmrTNZ6QGisPPA1MvBkoyPiZWJ</td>\n",
       "      <td>8600.000000000</td>\n",
       "    </tr>\n",
       "    <tr>\n",
       "      <th>8</th>\n",
       "      <td>3LCGsSmfr24demGvriN4e3ft8wEcDuHFqh</td>\n",
       "      <td>8342.051353920</td>\n",
       "    </tr>\n",
       "    <tr>\n",
       "      <th>9</th>\n",
       "      <td>bc1q28urhmupj5uv98wyunyrgzwm0wwu75rm0e8w47</td>\n",
       "      <td>8277.616476000</td>\n",
       "    </tr>\n",
       "  </tbody>\n",
       "</table>\n",
       "</div>"
      ],
      "text/plain": [
       "                                           o_address        sum_value\n",
       "0                 1EEqRvnS7XqMoXDcaGL7bLS3hzZi1qUZm1  28358.519341320\n",
       "1                 148ZZoU5DK5Ba4V9zMYTH46JvNjCcX2vSt  24198.934581600\n",
       "2                 14eHvec9DxCkiEBNs4cbjbHQXswHV1aEK9  15383.135456550\n",
       "3  bc1qrkd2akxs0jlrydm02jdrlhnhk79jrt8v5cpejkpqec...  14065.886528750\n",
       "4  bc1qreutkjau7mllp463sp60h6tl5zuvnkyk8vq9yvsfpc...  10337.092897910\n",
       "5                 18NBmPg56gty4NLe3hXYucboEvMDhBjBWL  10284.023695200\n",
       "6                 3ED9Mep2YwcQX173qfXA7uEPwaUV2yb6wu  10261.637823750\n",
       "7                 1HTzd3sKVmrTNZ6QGisPPA1MvBkoyPiZWJ   8600.000000000\n",
       "8                 3LCGsSmfr24demGvriN4e3ft8wEcDuHFqh   8342.051353920\n",
       "9         bc1q28urhmupj5uv98wyunyrgzwm0wwu75rm0e8w47   8277.616476000"
      ]
     },
     "execution_count": 142,
     "metadata": {},
     "output_type": "execute_result"
    }
   ],
   "source": [
    "lost_wallets_df_pd.head(10)"
   ]
  },
  {
   "cell_type": "markdown",
   "metadata": {},
   "source": [
    "## 2 Data preprocessing, building a training data set"
   ]
  },
  {
   "cell_type": "markdown",
   "metadata": {},
   "source": [
    "Data preprocessing is the manipulation or dropping of data before it is used in order to ensure or enhance performance, and is an important step in the data mining process. The phrase \"garbage in, garbage out\" is particularly applicable to data mining and machine learning projects. Data-gathering methods are often loosely controlled, resulting in out-of-range values (e.g., Income: −100), impossible data combinations (e.g., Sex: Male, Pregnant: Yes), and missing values, etc."
   ]
  },
  {
   "cell_type": "markdown",
   "metadata": {},
   "source": [
    "Profile Miner signatures (coinbase_param) from https://en.bitcoin.it/wiki/Comparison_of_mining_pools\n",
    "* AntPool, BitMinter, BTC.com, BTCC Pool, BTCDig, Btcmp, btcZPool.com, BW Mining, BCMonster, BitcoinAffiliateNetwork, -Eligius, F2Pool, GHash.IO, Give Me COINS, Golden Nonce Pool, Bravo Mining, KanoPool, Merge Mining Pool, kmdPool.org -Slush Pool, MergeMining, P2Pool, Multipool, ZenPool.org\n",
    "    * `4d696e656420627920416e74506f6f6c%` \n",
    "    * `%2f42434d6f6e737465722f%`\n",
    "    * `%4269744d696e746572%`\n",
    "    * `%2f7374726174756d2f%` \n",
    "    * `%456c6967697573%`\n",
    "    * `%2f627261766f2d6d696e696e672f%` \n",
    "    * `%4b616e6f%`\n",
    "    * `%2f6d6d706f6f6c%` \n",
    "    * `%2f736c7573682f%`    "
   ]
  },
  {
   "cell_type": "code",
   "execution_count": 143,
   "metadata": {},
   "outputs": [],
   "source": [
    "minig_pool_class_transactions_df = spark.read.format('bigquery') \\\n",
    "  .option('table', '{}.crypto_bitcoin.transactions'.format(project_id))  \\\n",
    "  .load()"
   ]
  },
  {
   "cell_type": "code",
   "execution_count": 144,
   "metadata": {},
   "outputs": [],
   "source": [
    "minig_pool_class_blocks_df = spark.read.format('bigquery') \\\n",
    "  .option('table', '{}.crypto_bitcoin.blocks'.format(project_id))  \\\n",
    "  .load()"
   ]
  },
  {
   "cell_type": "code",
   "execution_count": 145,
   "metadata": {},
   "outputs": [],
   "source": [
    "minig_pool_class_df_explode_outputs = minig_pool_class_transactions_df.withColumn(\"o\", F.explode(\"outputs\")).withColumn(\"o_address\", F.explode(\"o.addresses\"))\n",
    "minig_pool_class_df_explode_inputs = minig_pool_class_transactions_df.withColumn(\"i\", F.explode(\"inputs\")).withColumn(\"i_address\", F.explode(\"i.addresses\"))\n",
    "minig_pool_class_df_output_ages = minig_pool_class_df_explode_outputs.groupBy(\"o_address\").agg(F.min(\"block_timestamp_month\").alias(\"output_month_min\"),  F.max(\"block_timestamp_month\").alias(\"output_month_max\")).select(minig_pool_class_df_explode_outputs.o_address.alias(\"output_ages_address\"),\"output_month_min\",\"output_month_max\")\n",
    "minig_pool_class_df_input_ages = minig_pool_class_df_explode_inputs.groupBy(\"i_address\").agg(F.min(\"block_timestamp_month\").alias(\"input_month_min\"),  F.max(\"block_timestamp_month\").alias(\"input_month_max\")).select(minig_pool_class_df_explode_inputs.i_address.alias(\"input_ages_address\"),\"input_month_min\",\"input_month_max\")\n",
    "minig_pool_class_df_output_monthly_stats = minig_pool_class_df_explode_outputs.groupBy(\"o_address\").agg( F.countDistinct(\"block_timestamp_month\").alias(\"output_active_months\"),F.count(\"outputs\").alias(\"total_tx_output_count\"), F.sum(\"output_value\").alias(\"total_tx_output_value\"), F.avg(\"output_value\").alias(\"mean_tx_output_value\"), F.stddev(\"output_value\").alias(\"stddev_tx_output_value\"), F.countDistinct(\"hash\").alias(\"total_output_tx\") , (F.sum(\"output_value\")/F.count(\"block_timestamp_month\")).alias(\"mean_monthly_output_value\") , ( F.count(\"o.addresses\") / F.count(\"block_timestamp_month\")  ).alias(\"mean_monthly_output_count\")   ).select(  minig_pool_class_df_explode_outputs.o_address.alias(\"output_monthly_stats_address\"),\"output_active_months\",\"total_tx_output_count\",\"total_tx_output_value\",\"mean_tx_output_value\",\"stddev_tx_output_value\",\"total_output_tx\",\"mean_monthly_output_value\",\"mean_monthly_output_count\")\n",
    "minig_pool_class_df_input_monthly_stats = minig_pool_class_df_explode_inputs.groupBy(\"i_address\").agg( F.countDistinct(\"block_timestamp_month\").alias(\"input_active_months\"),F.count(\"inputs\").alias(\"total_tx_input_count\"), F.sum(\"input_value\").alias(\"total_tx_input_value\"), F.avg(\"input_value\").alias(\"mean_tx_input_value\"), F.stddev(\"input_value\").alias(\"stddev_tx_input_value\"), F.countDistinct(\"hash\").alias(\"total_input_tx\") , (F.sum(\"input_value\")/F.count(\"block_timestamp_month\")).alias(\"mean_monthly_input_value\") , ( F.count(\"i.addresses\") / F.count(\"block_timestamp_month\")  ).alias(\"mean_monthly_input_count\")   ).select(minig_pool_class_df_explode_inputs.i_address.alias(\"input_monthly_stats_address\"),\"input_active_months\",\"total_tx_input_count\",\"total_tx_input_value\",\"mean_tx_input_value\",\"stddev_tx_input_value\",\"total_input_tx\",\"mean_monthly_input_value\",\"mean_monthly_input_count\")"
   ]
  },
  {
   "cell_type": "code",
   "execution_count": 146,
   "metadata": {},
   "outputs": [],
   "source": [
    "output_window_spec = Window.partitionBy(\"o_address\").orderBy(\"block_timestamp\")\n",
    "output_event = minig_pool_class_df_explode_outputs.withColumn(\"prev_block_time\",lag(\"block_timestamp\").over(output_window_spec))\n",
    "output_event = output_event.where(output_event.prev_block_time != output_event.block_timestamp)\n",
    "output_event = output_event.select(\"o_address\", when(  output_event.prev_block_time.isNull() ,None).otherwise(  unix_timestamp(\"block_timestamp\") - unix_timestamp(\"prev_block_time\")  ).alias(\"idle_time\") )\n",
    "output_idle_times = output_event.groupBy(\"o_address\").agg(F.avg(\"idle_time\").alias(\"mean_output_idle_time\"),F.stddev(\"idle_time\").alias(\"stddev_output_idle_time\")).select(output_event.o_address.alias(\"idle_time_address\"), \"mean_output_idle_time\", \"stddev_output_idle_time\")\n",
    "input_window_spec = Window.partitionBy(\"i_address\").orderBy(\"block_timestamp\")\n",
    "input_event = minig_pool_class_df_explode_inputs.withColumn(\"prev_block_time\",lag(\"block_timestamp\").over(input_window_spec))\n",
    "input_event = input_event.where(input_event.prev_block_time != input_event.block_timestamp)\n",
    "input_event = input_event.select(\"i_address\", when(  input_event.prev_block_time.isNull() ,None).otherwise(  unix_timestamp(\"block_timestamp\") - unix_timestamp(\"prev_block_time\")  ).alias(\"idle_time\") )\n",
    "input_idle_times = input_event.groupBy(\"i_address\").agg(F.avg(\"idle_time\").alias(\"mean_input_idle_time\"),F.stddev(\"idle_time\").alias(\"stddev_input_idle_time\")).select(input_event.i_address.alias(\"idle_time_address\"), \"mean_input_idle_time\", \"stddev_input_idle_time\")"
   ]
  },
  {
   "cell_type": "code",
   "execution_count": 147,
   "metadata": {},
   "outputs": [],
   "source": [
    "miners = minig_pool_class_df_explode_outputs.join(minig_pool_class_blocks_df, minig_pool_class_df_explode_outputs.block_hash ==  minig_pool_class_blocks_df.hash)"
   ]
  },
  {
   "cell_type": "code",
   "execution_count": 148,
   "metadata": {},
   "outputs": [],
   "source": [
    "miners = miners.where( ((miners.is_coinbase == True) & ( (miners.coinbase_param.like('%4d696e656420627920416e74506f6f6c%')) | \\\n",
    "                                                         (miners.coinbase_param.like('%2f42434d6f6e737465722f%')) | \\\n",
    "                                                         (miners.coinbase_param.like('%4269744d696e746572%')) | \\\n",
    "                                                         (miners.coinbase_param.like('%2f7374726174756d2f%')) | \\\n",
    "                                                         (miners.coinbase_param.like('%456c6967697573%')) | \\\n",
    "                                                         (miners.coinbase_param.like('%2f627261766f2d6d696e696e672f%')) | \\\n",
    "                                                         (miners.coinbase_param.like('%4b616e6f%')) | \\\n",
    "                                                         (miners.coinbase_param.like('%2f6d6d706f6f6c%')) | \\\n",
    "                                                         (miners.coinbase_param.like('%2f736c7573682f%')))))"
   ]
  },
  {
   "cell_type": "code",
   "execution_count": 149,
   "metadata": {},
   "outputs": [],
   "source": [
    "miners = miners.groupBy(\"o_address\").agg(F.count(\"o_address\").alias(\"count_miners\"))\n",
    "miners = miners.where(miners.count_miners > 20).select(\n",
    "    miners.o_address.alias(\"output_ages_address\"))\n",
    "miners_join = minig_pool_class_df_output_ages.join(minig_pool_class_df_output_monthly_stats,minig_pool_class_df_output_ages.output_ages_address == minig_pool_class_df_output_monthly_stats.output_monthly_stats_address ) \\\n",
    "                                .join(output_idle_times, minig_pool_class_df_output_ages.output_ages_address ==  output_idle_times.idle_time_address) \\\n",
    "                                .join(minig_pool_class_df_input_monthly_stats, minig_pool_class_df_output_ages.output_ages_address ==  minig_pool_class_df_input_monthly_stats.input_monthly_stats_address) \\\n",
    "                                .join(minig_pool_class_df_input_ages, minig_pool_class_df_output_ages.output_ages_address ==  minig_pool_class_df_input_ages.input_ages_address) \\\n",
    "                                .join(input_idle_times, minig_pool_class_df_output_ages.output_ages_address == input_idle_times.idle_time_address)"
   ]
  },
  {
   "cell_type": "code",
   "execution_count": 150,
   "metadata": {},
   "outputs": [],
   "source": [
    "miner_vectors_limit = 2000\n",
    "non_miner_vectors_limit = 20000"
   ]
  },
  {
   "cell_type": "code",
   "execution_count": 151,
   "metadata": {},
   "outputs": [],
   "source": [
    "false_miners = miners_join.join(miners,  \"output_ages_address\", \"left_anti\").limit(non_miner_vectors_limit)\n",
    "true_miners = miners_join.join(miners, \"output_ages_address\", \"leftsemi\").limit(miner_vectors_limit)"
   ]
  },
  {
   "cell_type": "code",
   "execution_count": 152,
   "metadata": {},
   "outputs": [],
   "source": [
    "false_miners = miners_join.withColumn(\"is_miner\", F.lit(\"False\")).select(\"is_miner\", \\\n",
    "                                                          miners_join.output_ages_address.alias(\"address\"), \\\n",
    "                                                          from_unixtime(unix_timestamp((minig_pool_class_df_output_ages.output_month_min).cast(\"timestamp\"), \"yyyy-MM-dd HH:mm:ss\")).cast(\"timestamp\").alias(\"output_month_min\"), \\\n",
    "                                                          from_unixtime(unix_timestamp((minig_pool_class_df_output_ages.output_month_max).cast(\"timestamp\"), \"yyyy-MM-dd HH:mm:ss\")).cast(\"timestamp\").alias(\"output_month_max\"), \\\n",
    "                                                          from_unixtime(unix_timestamp((minig_pool_class_df_input_ages.input_month_min).cast(\"timestamp\"), \"yyyy-MM-dd HH:mm:ss\")).cast(\"timestamp\").alias(\"input_month_min\"), \\\n",
    "                                                          from_unixtime(unix_timestamp((minig_pool_class_df_input_ages.input_month_max).cast(\"timestamp\"), \"yyyy-MM-dd HH:mm:ss\")).cast(\"timestamp\").alias(\"input_month_max\") , \\\n",
    "                                                          datediff(minig_pool_class_df_output_ages.output_month_max , minig_pool_class_df_output_ages.output_month_min).alias(\"output_active_time\") , \\\n",
    "                                                          datediff(minig_pool_class_df_input_ages.input_month_max , minig_pool_class_df_input_ages.input_month_min).alias(\"input_active_time\") , \\\n",
    "                                                          datediff(minig_pool_class_df_output_ages.output_month_max , minig_pool_class_df_input_ages.input_month_max).alias(\"io_max_lag\") , \\\n",
    "                                                          datediff(minig_pool_class_df_output_ages.output_month_min , minig_pool_class_df_input_ages.input_month_min).alias(\"io_min_lag\"), \\\n",
    "                                                          minig_pool_class_df_output_monthly_stats.output_active_months, \\\n",
    "                                                          minig_pool_class_df_output_monthly_stats.total_tx_output_count, \\\n",
    "                                                          minig_pool_class_df_output_monthly_stats.total_tx_output_value, \\\n",
    "                                                          minig_pool_class_df_output_monthly_stats.mean_tx_output_value, \\\n",
    "                                                          minig_pool_class_df_output_monthly_stats.stddev_tx_output_value, \\\n",
    "                                                          minig_pool_class_df_output_monthly_stats.total_output_tx, \\\n",
    "                                                          minig_pool_class_df_output_monthly_stats.mean_monthly_output_value, \\\n",
    "                                                          minig_pool_class_df_output_monthly_stats.mean_monthly_output_count, \\\n",
    "                                                          minig_pool_class_df_input_monthly_stats.input_active_months, \\\n",
    "                                                          minig_pool_class_df_input_monthly_stats.total_tx_input_count, \\\n",
    "                                                          minig_pool_class_df_input_monthly_stats.total_tx_input_value, \\\n",
    "                                                          minig_pool_class_df_input_monthly_stats.mean_tx_input_value, \\\n",
    "                                                          minig_pool_class_df_input_monthly_stats.stddev_tx_input_value, \\\n",
    "                                                          minig_pool_class_df_input_monthly_stats.total_input_tx, \\\n",
    "                                                          minig_pool_class_df_input_monthly_stats.mean_monthly_input_value, \\\n",
    "                                                          minig_pool_class_df_input_monthly_stats.mean_monthly_input_count, \\\n",
    "                                                          output_idle_times.mean_output_idle_time, \\\n",
    "                                                          output_idle_times.stddev_output_idle_time, \\\n",
    "                                                          input_idle_times.mean_input_idle_time, \\\n",
    "                                                          input_idle_times.stddev_input_idle_time )"
   ]
  },
  {
   "cell_type": "code",
   "execution_count": 153,
   "metadata": {},
   "outputs": [],
   "source": [
    "true_miners = miners_join.withColumn(\"is_miner\", F.lit(\"True\")).select(\"is_miner\", \\\n",
    "                                                          miners_join.output_ages_address.alias(\"address\"), \\\n",
    "                                                          from_unixtime(unix_timestamp((minig_pool_class_df_output_ages.output_month_min).cast(\"timestamp\"), \"yyyy-MM-dd HH:mm:ss\")).cast(\"timestamp\").alias(\"output_month_min\"), \\\n",
    "                                                          from_unixtime(unix_timestamp((minig_pool_class_df_output_ages.output_month_max).cast(\"timestamp\"), \"yyyy-MM-dd HH:mm:ss\")).cast(\"timestamp\").alias(\"output_month_max\"), \\\n",
    "                                                          from_unixtime(unix_timestamp((minig_pool_class_df_input_ages.input_month_min).cast(\"timestamp\"), \"yyyy-MM-dd HH:mm:ss\")).cast(\"timestamp\").alias(\"input_month_min\"), \\\n",
    "                                                          from_unixtime(unix_timestamp((minig_pool_class_df_input_ages.input_month_max).cast(\"timestamp\"), \"yyyy-MM-dd HH:mm:ss\")).cast(\"timestamp\").alias(\"input_month_max\") , \\\n",
    "                                                          datediff(minig_pool_class_df_output_ages.output_month_max , minig_pool_class_df_output_ages.output_month_min).alias(\"output_active_time\") , \\\n",
    "                                                          datediff(minig_pool_class_df_input_ages.input_month_max , minig_pool_class_df_input_ages.input_month_min).alias(\"input_active_time\") , \\\n",
    "                                                          datediff(minig_pool_class_df_output_ages.output_month_max , minig_pool_class_df_input_ages.input_month_max).alias(\"io_max_lag\") , \\\n",
    "                                                          datediff(minig_pool_class_df_output_ages.output_month_min , minig_pool_class_df_input_ages.input_month_min).alias(\"io_min_lag\"), \\\n",
    "                                                          minig_pool_class_df_output_monthly_stats.output_active_months, \\\n",
    "                                                          minig_pool_class_df_output_monthly_stats.total_tx_output_count, \\\n",
    "                                                          minig_pool_class_df_output_monthly_stats.total_tx_output_value, \\\n",
    "                                                          minig_pool_class_df_output_monthly_stats.mean_tx_output_value, \\\n",
    "                                                          minig_pool_class_df_output_monthly_stats.stddev_tx_output_value, \\\n",
    "                                                          minig_pool_class_df_output_monthly_stats.total_output_tx, \\\n",
    "                                                          minig_pool_class_df_output_monthly_stats.mean_monthly_output_value, \\\n",
    "                                                          minig_pool_class_df_output_monthly_stats.mean_monthly_output_count, \\\n",
    "                                                          minig_pool_class_df_input_monthly_stats.input_active_months, \\\n",
    "                                                          minig_pool_class_df_input_monthly_stats.total_tx_input_count, \\\n",
    "                                                          minig_pool_class_df_input_monthly_stats.total_tx_input_value, \\\n",
    "                                                          minig_pool_class_df_input_monthly_stats.mean_tx_input_value, \\\n",
    "                                                          minig_pool_class_df_input_monthly_stats.stddev_tx_input_value, \\\n",
    "                                                          minig_pool_class_df_input_monthly_stats.total_input_tx, \\\n",
    "                                                          minig_pool_class_df_input_monthly_stats.mean_monthly_input_value, \\\n",
    "                                                          minig_pool_class_df_input_monthly_stats.mean_monthly_input_count, \\\n",
    "                                                          output_idle_times.mean_output_idle_time, \\\n",
    "                                                          output_idle_times.stddev_output_idle_time, \\\n",
    "                                                          input_idle_times.mean_input_idle_time, \\\n",
    "                                                          input_idle_times.stddev_input_idle_time )"
   ]
  },
  {
   "cell_type": "code",
   "execution_count": 154,
   "metadata": {},
   "outputs": [],
   "source": [
    "minig_pool_class_df  = true_miners.unionAll(false_miners)"
   ]
  },
  {
   "cell_type": "code",
   "execution_count": 155,
   "metadata": {},
   "outputs": [
    {
     "name": "stderr",
     "output_type": "stream",
     "text": [
      "                                                                                \r"
     ]
    },
    {
     "name": "stdout",
     "output_type": "stream",
     "text": [
      "CPU times: user 660 ms, sys: 38.5 ms, total: 698 ms\n",
      "Wall time: 39.1 s\n"
     ]
    }
   ],
   "source": [
    "%%time\n",
    "minig_pool_class_df_pd = minig_pool_class_df.toPandas()"
   ]
  },
  {
   "cell_type": "code",
   "execution_count": 156,
   "metadata": {},
   "outputs": [
    {
     "data": {
      "text/html": [
       "<div>\n",
       "<style scoped>\n",
       "    .dataframe tbody tr th:only-of-type {\n",
       "        vertical-align: middle;\n",
       "    }\n",
       "\n",
       "    .dataframe tbody tr th {\n",
       "        vertical-align: top;\n",
       "    }\n",
       "\n",
       "    .dataframe thead th {\n",
       "        text-align: right;\n",
       "    }\n",
       "</style>\n",
       "<table border=\"1\" class=\"dataframe\">\n",
       "  <thead>\n",
       "    <tr style=\"text-align: right;\">\n",
       "      <th></th>\n",
       "      <th>is_miner</th>\n",
       "      <th>address</th>\n",
       "      <th>output_month_min</th>\n",
       "      <th>output_month_max</th>\n",
       "      <th>input_month_min</th>\n",
       "      <th>input_month_max</th>\n",
       "      <th>output_active_time</th>\n",
       "      <th>input_active_time</th>\n",
       "      <th>io_max_lag</th>\n",
       "      <th>io_min_lag</th>\n",
       "      <th>...</th>\n",
       "      <th>total_tx_input_value</th>\n",
       "      <th>mean_tx_input_value</th>\n",
       "      <th>stddev_tx_input_value</th>\n",
       "      <th>total_input_tx</th>\n",
       "      <th>mean_monthly_input_value</th>\n",
       "      <th>mean_monthly_input_count</th>\n",
       "      <th>mean_output_idle_time</th>\n",
       "      <th>stddev_output_idle_time</th>\n",
       "      <th>mean_input_idle_time</th>\n",
       "      <th>stddev_input_idle_time</th>\n",
       "    </tr>\n",
       "  </thead>\n",
       "  <tbody>\n",
       "    <tr>\n",
       "      <th>0</th>\n",
       "      <td>True</td>\n",
       "      <td>186DM7jPD1aM4MTvmyv552pPz4JtvtPTa3</td>\n",
       "      <td>2021-11-01</td>\n",
       "      <td>2021-11-01</td>\n",
       "      <td>2021-11-01</td>\n",
       "      <td>2021-11-01</td>\n",
       "      <td>0</td>\n",
       "      <td>0</td>\n",
       "      <td>0</td>\n",
       "      <td>0</td>\n",
       "      <td>...</td>\n",
       "      <td>238109968.000000000</td>\n",
       "      <td>47621993.6000000000000</td>\n",
       "      <td>1.181874e+07</td>\n",
       "      <td>3</td>\n",
       "      <td>47621993.600000000</td>\n",
       "      <td>1.0</td>\n",
       "      <td>1.164570e+05</td>\n",
       "      <td>10066.372137</td>\n",
       "      <td>1.164570e+05</td>\n",
       "      <td>10066.372137</td>\n",
       "    </tr>\n",
       "    <tr>\n",
       "      <th>1</th>\n",
       "      <td>True</td>\n",
       "      <td>1ApkXfxWgJ5CBHzrogVSKz23umMZ32wvNA</td>\n",
       "      <td>2017-11-01</td>\n",
       "      <td>2017-11-01</td>\n",
       "      <td>2017-11-01</td>\n",
       "      <td>2017-11-01</td>\n",
       "      <td>0</td>\n",
       "      <td>0</td>\n",
       "      <td>0</td>\n",
       "      <td>0</td>\n",
       "      <td>...</td>\n",
       "      <td>40981658.000000000</td>\n",
       "      <td>6830276.3333333330000</td>\n",
       "      <td>6.802978e+06</td>\n",
       "      <td>6</td>\n",
       "      <td>6830276.333333333</td>\n",
       "      <td>1.0</td>\n",
       "      <td>4.524564e+05</td>\n",
       "      <td>570213.316476</td>\n",
       "      <td>4.524564e+05</td>\n",
       "      <td>570213.316476</td>\n",
       "    </tr>\n",
       "    <tr>\n",
       "      <th>2</th>\n",
       "      <td>True</td>\n",
       "      <td>1ArYGSWjZBavYD7RATsKCEkAsB2AKSP16n</td>\n",
       "      <td>2017-11-01</td>\n",
       "      <td>2017-11-01</td>\n",
       "      <td>2017-11-01</td>\n",
       "      <td>2017-11-01</td>\n",
       "      <td>0</td>\n",
       "      <td>0</td>\n",
       "      <td>0</td>\n",
       "      <td>0</td>\n",
       "      <td>...</td>\n",
       "      <td>1916245.000000000</td>\n",
       "      <td>479061.2500000000000</td>\n",
       "      <td>3.270750e+04</td>\n",
       "      <td>2</td>\n",
       "      <td>479061.250000000</td>\n",
       "      <td>1.0</td>\n",
       "      <td>9.866100e+04</td>\n",
       "      <td>NaN</td>\n",
       "      <td>9.866100e+04</td>\n",
       "      <td>NaN</td>\n",
       "    </tr>\n",
       "    <tr>\n",
       "      <th>3</th>\n",
       "      <td>True</td>\n",
       "      <td>3MUvpc2BQVE5ZHWeBXrXzo7deENwUrAh44</td>\n",
       "      <td>2017-11-01</td>\n",
       "      <td>2017-11-01</td>\n",
       "      <td>2017-11-01</td>\n",
       "      <td>2017-11-01</td>\n",
       "      <td>0</td>\n",
       "      <td>0</td>\n",
       "      <td>0</td>\n",
       "      <td>0</td>\n",
       "      <td>...</td>\n",
       "      <td>79912987.000000000</td>\n",
       "      <td>39956493.5000000000000</td>\n",
       "      <td>2.790456e+07</td>\n",
       "      <td>2</td>\n",
       "      <td>39956493.500000000</td>\n",
       "      <td>1.0</td>\n",
       "      <td>2.263588e+06</td>\n",
       "      <td>NaN</td>\n",
       "      <td>2.263588e+06</td>\n",
       "      <td>NaN</td>\n",
       "    </tr>\n",
       "    <tr>\n",
       "      <th>4</th>\n",
       "      <td>True</td>\n",
       "      <td>3Pwp5u7PwgrMw3gAAyLAkDKYKRrFuFkneG</td>\n",
       "      <td>2017-11-01</td>\n",
       "      <td>2017-11-01</td>\n",
       "      <td>2017-11-01</td>\n",
       "      <td>2017-11-01</td>\n",
       "      <td>0</td>\n",
       "      <td>0</td>\n",
       "      <td>0</td>\n",
       "      <td>0</td>\n",
       "      <td>...</td>\n",
       "      <td>6967602827.000000000</td>\n",
       "      <td>2322534275.6666666670000</td>\n",
       "      <td>2.086385e+09</td>\n",
       "      <td>3</td>\n",
       "      <td>2322534275.666666667</td>\n",
       "      <td>1.0</td>\n",
       "      <td>1.190229e+06</td>\n",
       "      <td>NaN</td>\n",
       "      <td>7.347785e+05</td>\n",
       "      <td>549163.875007</td>\n",
       "    </tr>\n",
       "    <tr>\n",
       "      <th>5</th>\n",
       "      <td>True</td>\n",
       "      <td>bc1q2f2fe805s7nznnyenwfyz5jk58g6wkf49zaz9s</td>\n",
       "      <td>2021-11-01</td>\n",
       "      <td>2021-11-01</td>\n",
       "      <td>2021-11-01</td>\n",
       "      <td>2021-11-01</td>\n",
       "      <td>0</td>\n",
       "      <td>0</td>\n",
       "      <td>0</td>\n",
       "      <td>0</td>\n",
       "      <td>...</td>\n",
       "      <td>67321.000000000</td>\n",
       "      <td>33660.5000000000000</td>\n",
       "      <td>4.295674e+03</td>\n",
       "      <td>2</td>\n",
       "      <td>33660.500000000</td>\n",
       "      <td>1.0</td>\n",
       "      <td>1.423900e+04</td>\n",
       "      <td>NaN</td>\n",
       "      <td>1.423900e+04</td>\n",
       "      <td>NaN</td>\n",
       "    </tr>\n",
       "    <tr>\n",
       "      <th>6</th>\n",
       "      <td>True</td>\n",
       "      <td>bc1qe9nagya0tvfhvymt8sejwedlukwq4a094h6ht9</td>\n",
       "      <td>2021-11-01</td>\n",
       "      <td>2021-11-01</td>\n",
       "      <td>2021-11-01</td>\n",
       "      <td>2021-11-01</td>\n",
       "      <td>0</td>\n",
       "      <td>0</td>\n",
       "      <td>0</td>\n",
       "      <td>0</td>\n",
       "      <td>...</td>\n",
       "      <td>8573183124.000000000</td>\n",
       "      <td>190515180.5333333330000</td>\n",
       "      <td>2.015206e+08</td>\n",
       "      <td>45</td>\n",
       "      <td>190515180.533333333</td>\n",
       "      <td>1.0</td>\n",
       "      <td>5.910476e+04</td>\n",
       "      <td>109628.760310</td>\n",
       "      <td>5.910476e+04</td>\n",
       "      <td>109628.760310</td>\n",
       "    </tr>\n",
       "    <tr>\n",
       "      <th>7</th>\n",
       "      <td>True</td>\n",
       "      <td>14gMn4Wvws1pyTyaApE2agxCk7tEjroVpW</td>\n",
       "      <td>2021-11-01</td>\n",
       "      <td>2021-11-01</td>\n",
       "      <td>2021-11-01</td>\n",
       "      <td>2021-11-01</td>\n",
       "      <td>0</td>\n",
       "      <td>0</td>\n",
       "      <td>0</td>\n",
       "      <td>0</td>\n",
       "      <td>...</td>\n",
       "      <td>4272285075.000000000</td>\n",
       "      <td>427228507.5000000000000</td>\n",
       "      <td>2.389471e+08</td>\n",
       "      <td>2</td>\n",
       "      <td>427228507.500000000</td>\n",
       "      <td>1.0</td>\n",
       "      <td>6.322400e+05</td>\n",
       "      <td>NaN</td>\n",
       "      <td>5.758160e+05</td>\n",
       "      <td>NaN</td>\n",
       "    </tr>\n",
       "    <tr>\n",
       "      <th>8</th>\n",
       "      <td>True</td>\n",
       "      <td>17ENQgbJTZ3ggH5CUvBvnWJzxCt1srXta7</td>\n",
       "      <td>2017-11-01</td>\n",
       "      <td>2017-11-01</td>\n",
       "      <td>2017-11-01</td>\n",
       "      <td>2017-11-01</td>\n",
       "      <td>0</td>\n",
       "      <td>0</td>\n",
       "      <td>0</td>\n",
       "      <td>0</td>\n",
       "      <td>...</td>\n",
       "      <td>1471141819.000000000</td>\n",
       "      <td>490380606.3333333330000</td>\n",
       "      <td>3.564241e+08</td>\n",
       "      <td>3</td>\n",
       "      <td>490380606.333333333</td>\n",
       "      <td>1.0</td>\n",
       "      <td>3.354200e+04</td>\n",
       "      <td>22336.089004</td>\n",
       "      <td>3.354200e+04</td>\n",
       "      <td>22336.089004</td>\n",
       "    </tr>\n",
       "    <tr>\n",
       "      <th>9</th>\n",
       "      <td>True</td>\n",
       "      <td>19D1iGzDr7FyAdiy3ZZdxMd6ttHj1kj6WW</td>\n",
       "      <td>2017-11-01</td>\n",
       "      <td>2017-11-01</td>\n",
       "      <td>2017-11-01</td>\n",
       "      <td>2017-11-01</td>\n",
       "      <td>0</td>\n",
       "      <td>0</td>\n",
       "      <td>0</td>\n",
       "      <td>0</td>\n",
       "      <td>...</td>\n",
       "      <td>7668237.000000000</td>\n",
       "      <td>3834118.5000000000000</td>\n",
       "      <td>2.403039e+05</td>\n",
       "      <td>2</td>\n",
       "      <td>3834118.500000000</td>\n",
       "      <td>1.0</td>\n",
       "      <td>1.563196e+06</td>\n",
       "      <td>NaN</td>\n",
       "      <td>1.563196e+06</td>\n",
       "      <td>NaN</td>\n",
       "    </tr>\n",
       "  </tbody>\n",
       "</table>\n",
       "<p>10 rows × 30 columns</p>\n",
       "</div>"
      ],
      "text/plain": [
       "  is_miner                                     address output_month_min  \\\n",
       "0     True          186DM7jPD1aM4MTvmyv552pPz4JtvtPTa3       2021-11-01   \n",
       "1     True          1ApkXfxWgJ5CBHzrogVSKz23umMZ32wvNA       2017-11-01   \n",
       "2     True          1ArYGSWjZBavYD7RATsKCEkAsB2AKSP16n       2017-11-01   \n",
       "3     True          3MUvpc2BQVE5ZHWeBXrXzo7deENwUrAh44       2017-11-01   \n",
       "4     True          3Pwp5u7PwgrMw3gAAyLAkDKYKRrFuFkneG       2017-11-01   \n",
       "5     True  bc1q2f2fe805s7nznnyenwfyz5jk58g6wkf49zaz9s       2021-11-01   \n",
       "6     True  bc1qe9nagya0tvfhvymt8sejwedlukwq4a094h6ht9       2021-11-01   \n",
       "7     True          14gMn4Wvws1pyTyaApE2agxCk7tEjroVpW       2021-11-01   \n",
       "8     True          17ENQgbJTZ3ggH5CUvBvnWJzxCt1srXta7       2017-11-01   \n",
       "9     True          19D1iGzDr7FyAdiy3ZZdxMd6ttHj1kj6WW       2017-11-01   \n",
       "\n",
       "  output_month_max input_month_min input_month_max  output_active_time  \\\n",
       "0       2021-11-01      2021-11-01      2021-11-01                   0   \n",
       "1       2017-11-01      2017-11-01      2017-11-01                   0   \n",
       "2       2017-11-01      2017-11-01      2017-11-01                   0   \n",
       "3       2017-11-01      2017-11-01      2017-11-01                   0   \n",
       "4       2017-11-01      2017-11-01      2017-11-01                   0   \n",
       "5       2021-11-01      2021-11-01      2021-11-01                   0   \n",
       "6       2021-11-01      2021-11-01      2021-11-01                   0   \n",
       "7       2021-11-01      2021-11-01      2021-11-01                   0   \n",
       "8       2017-11-01      2017-11-01      2017-11-01                   0   \n",
       "9       2017-11-01      2017-11-01      2017-11-01                   0   \n",
       "\n",
       "   input_active_time  io_max_lag  io_min_lag  ...  total_tx_input_value  \\\n",
       "0                  0           0           0  ...   238109968.000000000   \n",
       "1                  0           0           0  ...    40981658.000000000   \n",
       "2                  0           0           0  ...     1916245.000000000   \n",
       "3                  0           0           0  ...    79912987.000000000   \n",
       "4                  0           0           0  ...  6967602827.000000000   \n",
       "5                  0           0           0  ...       67321.000000000   \n",
       "6                  0           0           0  ...  8573183124.000000000   \n",
       "7                  0           0           0  ...  4272285075.000000000   \n",
       "8                  0           0           0  ...  1471141819.000000000   \n",
       "9                  0           0           0  ...     7668237.000000000   \n",
       "\n",
       "        mean_tx_input_value stddev_tx_input_value total_input_tx  \\\n",
       "0    47621993.6000000000000          1.181874e+07              3   \n",
       "1     6830276.3333333330000          6.802978e+06              6   \n",
       "2      479061.2500000000000          3.270750e+04              2   \n",
       "3    39956493.5000000000000          2.790456e+07              2   \n",
       "4  2322534275.6666666670000          2.086385e+09              3   \n",
       "5       33660.5000000000000          4.295674e+03              2   \n",
       "6   190515180.5333333330000          2.015206e+08             45   \n",
       "7   427228507.5000000000000          2.389471e+08              2   \n",
       "8   490380606.3333333330000          3.564241e+08              3   \n",
       "9     3834118.5000000000000          2.403039e+05              2   \n",
       "\n",
       "   mean_monthly_input_value  mean_monthly_input_count mean_output_idle_time  \\\n",
       "0        47621993.600000000                       1.0          1.164570e+05   \n",
       "1         6830276.333333333                       1.0          4.524564e+05   \n",
       "2          479061.250000000                       1.0          9.866100e+04   \n",
       "3        39956493.500000000                       1.0          2.263588e+06   \n",
       "4      2322534275.666666667                       1.0          1.190229e+06   \n",
       "5           33660.500000000                       1.0          1.423900e+04   \n",
       "6       190515180.533333333                       1.0          5.910476e+04   \n",
       "7       427228507.500000000                       1.0          6.322400e+05   \n",
       "8       490380606.333333333                       1.0          3.354200e+04   \n",
       "9         3834118.500000000                       1.0          1.563196e+06   \n",
       "\n",
       "   stddev_output_idle_time  mean_input_idle_time  stddev_input_idle_time  \n",
       "0             10066.372137          1.164570e+05            10066.372137  \n",
       "1            570213.316476          4.524564e+05           570213.316476  \n",
       "2                      NaN          9.866100e+04                     NaN  \n",
       "3                      NaN          2.263588e+06                     NaN  \n",
       "4                      NaN          7.347785e+05           549163.875007  \n",
       "5                      NaN          1.423900e+04                     NaN  \n",
       "6            109628.760310          5.910476e+04           109628.760310  \n",
       "7                      NaN          5.758160e+05                     NaN  \n",
       "8             22336.089004          3.354200e+04            22336.089004  \n",
       "9                      NaN          1.563196e+06                     NaN  \n",
       "\n",
       "[10 rows x 30 columns]"
      ]
     },
     "execution_count": 156,
     "metadata": {},
     "output_type": "execute_result"
    }
   ],
   "source": [
    "minig_pool_class_df_pd.head(10)"
   ]
  },
  {
   "cell_type": "markdown",
   "metadata": {},
   "source": [
    "End of LAB1"
   ]
  }
 ],
 "metadata": {
  "application/vnd.databricks.v1+notebook": {
   "dashboards": [],
   "language": "python",
   "notebookMetadata": {
    "pythonIndentUnit": 4
   },
   "notebookName": "01-data-engineering",
   "notebookOrigID": 1914343434663113,
   "widgets": {}
  },
  "kernelspec": {
   "display_name": "Python 3",
   "language": "python",
   "name": "python3"
  },
  "language_info": {
   "codemirror_mode": {
    "name": "ipython",
    "version": 3
   },
   "file_extension": ".py",
   "mimetype": "text/x-python",
   "name": "python",
   "nbconvert_exporter": "python",
   "pygments_lexer": "ipython3",
   "version": "3.9.6 (default, Oct 18 2022, 12:41:40) \n[Clang 14.0.0 (clang-1400.0.29.202)]"
  },
  "serverless_spark": "{\"name\":\"projects/s8s-spark-ml-mlops/locations/us-central1/sessions/agni-6\",\"uuid\":\"35fda7e3-be7b-4913-99c5-83e97b677386\",\"createTime\":\"2022-08-04T02:37:17.836903Z\",\"jupyterSession\":{},\"spark\":{},\"runtimeInfo\":{},\"state\":\"ACTIVE\",\"stateTime\":\"2022-08-04T02:38:37.084371Z\",\"creator\":\"s8s-lab-sa@s8s-spark-ml-mlops.iam.gserviceaccount.com\",\"runtimeConfig\":{\"containerImage\":\"gcr.io/s8s-spark-ml-mlops/dataproc_serverless_custom_runtime:1.0.3\",\"properties\":{\"spark:spark.executor.instances\":\"2\",\"spark:spark.driver.cores\":\"4\",\"spark:spark.executor.cores\":\"4\",\"spark:spark.eventLog.dir\":\"gs://s8s-sphs-974925525028/35fda7e3-be7b-4913-99c5-83e97b677386/spark-job-history\"}},\"environmentConfig\":{\"executionConfig\":{\"serviceAccount\":\"s8s-lab-sa@s8s-spark-ml-mlops.iam.gserviceaccount.com\",\"subnetworkUri\":\"https://www.googleapis.com/compute/v1/projects/s8s-spark-ml-mlops/regions/us-central1/subnetworks/spark-snet\"},\"peripheralsConfig\":{\"sparkHistoryServerConfig\":{\"dataprocCluster\":\"projects/s8s-spark-ml-mlops/regions/us-central1/clusters/s8s-sphs-974925525028\"}}},\"stateHistory\":[{\"state\":\"CREATING\",\"stateStartTime\":\"2022-08-04T02:37:17.836903Z\"}]}",
  "serverless_spark_kernel_name": "remote-bc514a4a91cec988ad3c15a7-pyspark",
  "vscode": {
   "interpreter": {
    "hash": "31f2aee4e71d21fbe5cf8b01ff0e069b9275f58929596ceb00d14d90e3e16cd6"
   }
  }
 },
 "nbformat": 4,
 "nbformat_minor": 4
}
